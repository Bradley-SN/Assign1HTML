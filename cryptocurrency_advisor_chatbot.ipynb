{
  "nbformat": 4,
  "nbformat_minor": 0,
  "metadata": {
    "colab": {
      "provenance": [],
      "authorship_tag": "ABX9TyPbWIY5jAr9nni7Td3buCot",
      "include_colab_link": true
    },
    "kernelspec": {
      "name": "python3",
      "display_name": "Python 3"
    },
    "language_info": {
      "name": "python"
    }
  },
  "cells": [
    {
      "cell_type": "markdown",
      "metadata": {
        "id": "view-in-github",
        "colab_type": "text"
      },
      "source": [
        "<a href=\"https://colab.research.google.com/github/Bradley-SN/Assign1HTML/blob/main/cryptocurrency_advisor_chatbot.ipynb\" target=\"_parent\"><img src=\"https://colab.research.google.com/assets/colab-badge.svg\" alt=\"Open In Colab\"/></a>"
      ]
    },
    {
      "cell_type": "code",
      "execution_count": 1,
      "metadata": {
        "id": "LFtoeb_UCM0n"
      },
      "outputs": [],
      "source": [
        "# Sample cryptocurrency dataset\n",
        "cryptos = {\n",
        "    \"Bitcoin\": {\"price_trend\": \"up\", \"energy_efficient\": False, \"viability\": \"high\"},\n",
        "    \"Ethereum\": {\"price_trend\": \"up\", \"energy_efficient\": True, \"viability\": \"high\"},\n",
        "    \"Dogecoin\": {\"price_trend\": \"down\", \"energy_efficient\": False, \"viability\": \"low\"},\n",
        "    \"Solana\": {\"price_trend\": \"up\", \"energy_efficient\": True, \"viability\": \"medium\"},\n",
        "}\n",
        "\n",
        "# Chatbot logic\n",
        "def crypto_advisor():\n",
        "    print(\"🤖 Welcome to your AI Crypto Advisor!\")\n",
        "    print(\"Type the name of a cryptocurrency (e.g., Bitcoin, Ethereum) or type 'exit' to quit.\")\n",
        "\n",
        "    while True:\n",
        "        user_input = input(\"You: \").strip().title()\n",
        "\n",
        "        if user_input.lower() == \"exit\":\n",
        "            print(\"Bot: Goodbye and happy investing! 🚀\")\n",
        "            break\n",
        "\n",
        "        crypto = cryptos.get(user_input)\n",
        "\n",
        "        if crypto:\n",
        "            # Profitability\n",
        "            if crypto[\"price_trend\"] == \"up\":\n",
        "                advice = \"📈 The price trend is positive, which indicates good profitability.\"\n",
        "            else:\n",
        "                advice = \"📉 The price trend is currently negative. Be cautious.\"\n",
        "\n",
        "            # Sustainability\n",
        "            if crypto[\"energy_efficient\"]:\n",
        "                advice += \" 🌿 It's also energy-efficient, which supports sustainable investing.\"\n",
        "            else:\n",
        "                advice += \" ⚠️ It's not very energy-efficient, consider the environmental impact.\"\n",
        "\n",
        "            # Viability\n",
        "            advice += f\" 🔍 The project's long-term viability is {crypto['viability']}.\"\n",
        "            print(f\"Bot: {advice}\")\n",
        "        else:\n",
        "            print(\"Bot: Sorry, I don't have data on that cryptocurrency. Try another one.\")\n"
      ]
    },
    {
      "cell_type": "code",
      "source": [
        "# Run the chatbot\n",
        "crypto_advisor()\n"
      ],
      "metadata": {
        "colab": {
          "base_uri": "https://localhost:8080/"
        },
        "id": "SIUFaYTaCt26",
        "outputId": "e2484961-d518-4ccb-f208-3e66affccdbb"
      },
      "execution_count": 2,
      "outputs": [
        {
          "output_type": "stream",
          "name": "stdout",
          "text": [
            "🤖 Welcome to your AI Crypto Advisor!\n",
            "Type the name of a cryptocurrency (e.g., Bitcoin, Ethereum) or type 'exit' to quit.\n",
            "You: bitcoin\n",
            "Bot: 📈 The price trend is positive, which indicates good profitability. ⚠️ It's not very energy-efficient, consider the environmental impact. 🔍 The project's long-term viability is high.\n",
            "You: ethereum\n",
            "Bot: 📈 The price trend is positive, which indicates good profitability. 🌿 It's also energy-efficient, which supports sustainable investing. 🔍 The project's long-term viability is high.\n",
            "You: how are you\n",
            "Bot: Sorry, I don't have data on that cryptocurrency. Try another one.\n",
            "You: exit\n",
            "Bot: Goodbye and happy investing! 🚀\n"
          ]
        }
      ]
    }
  ]
}